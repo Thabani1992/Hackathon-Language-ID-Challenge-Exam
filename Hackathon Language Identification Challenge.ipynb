{
 "cells": [
  {
   "cell_type": "markdown",
   "id": "3a94f946",
   "metadata": {},
   "source": [
    "# Hackathon Language Identification Challenge: Notebook\n",
    "\n",
    "## Introduction\n",
    "Welcome to the Language Identification Challenge Hackathon! In this challenge, we aim to build a robust language identification model that can accurately classify text into its respective language category. This notebook serves as a comprehensive guide to our approach, methodology, and the steps taken to create an effective language identification solution.\n",
    "\n",
    "## Challenge Overview\n",
    "Language identification is a crucial task in natural language processing (NLP) and has numerous applications, ranging from content filtering to improving machine translation systems. The goal of this hackathon is to leverage machine learning techniques to build a model that excels at accurately determining the language of a given text, even in cases of multilingual or ambiguous content.\n",
    "\n",
    "## Dataset\n",
    "Our dataset comprises a diverse collection of text samples from various languages. Each text entry is labeled with its corresponding language, forming the basis for supervised learning. The challenge is to train a classification model that can generalize well to unseen text data.\n",
    "\n",
    "## Approach\n",
    "\n",
    "#### Data Exploration:\n",
    "I will begin by exploring the dataset, gaining insights into its structure, and understanding the distribution of languages.\n",
    "\n",
    "#### Data Preprocessing: \n",
    "To prepare the data for model training, I will perform necessary preprocessing steps such as tokenization, handling missing values, and converting text into a suitable format for machine learning.\n",
    "\n",
    "#### Feature Engineering: \n",
    "Extracting relevant features is crucial for the success of our model. We may consider techniques like TF-IDF (Term Frequency-Inverse Document Frequency) or word embeddings.\n",
    "\n",
    "#### Model Selection: \n",
    "I will experiment with various classification algorithms, such as logistic regression, support vector machines, or neural networks, to identify the one that performs best for our specific language identification task.\n",
    "\n",
    "#### Model Training: \n",
    "Once the model is selected, I will train it on the training dataset and fine-tune hyperparameters to achieve optimal performance.\n",
    "\n",
    "#### Evaluation: \n",
    "We will evaluate the model using appropriate metrics, considering factors like precision, recall, and F1-score, given the potential class imbalance.\n",
    "\n",
    "#### Inference: \n",
    "After training the model, we will demonstrate its language identification capabilities on new, unseen text samples."
   ]
  },
  {
   "cell_type": "markdown",
   "id": "94f479ab",
   "metadata": {},
   "source": [
    "# Importing Libraries"
   ]
  },
  {
   "cell_type": "code",
   "execution_count": 2,
   "id": "b05e79e7",
   "metadata": {},
   "outputs": [],
   "source": [
    "#importing of required libraries\n",
    "import numpy as np\n",
    "import pandas as pd\n",
    "import matplotlib.pyplot as plt\n"
   ]
  },
  {
   "cell_type": "code",
   "execution_count": 3,
   "id": "4f1246a2",
   "metadata": {},
   "outputs": [],
   "source": [
    "#importing the Training Data\n",
    "train_df = pd.read_csv('train_set.csv')\n",
    "\n",
    "#Importing the test data\n",
    "test_df = pd.read_csv('test_set.csv')"
   ]
  },
  {
   "cell_type": "markdown",
   "id": "f4739b4c",
   "metadata": {},
   "source": [
    "# Data Exploration"
   ]
  },
  {
   "cell_type": "code",
   "execution_count": 4,
   "id": "59562e0d",
   "metadata": {},
   "outputs": [
    {
     "data": {
      "text/html": [
       "<div>\n",
       "<style scoped>\n",
       "    .dataframe tbody tr th:only-of-type {\n",
       "        vertical-align: middle;\n",
       "    }\n",
       "\n",
       "    .dataframe tbody tr th {\n",
       "        vertical-align: top;\n",
       "    }\n",
       "\n",
       "    .dataframe thead th {\n",
       "        text-align: right;\n",
       "    }\n",
       "</style>\n",
       "<table border=\"1\" class=\"dataframe\">\n",
       "  <thead>\n",
       "    <tr style=\"text-align: right;\">\n",
       "      <th></th>\n",
       "      <th>lang_id</th>\n",
       "      <th>text</th>\n",
       "    </tr>\n",
       "  </thead>\n",
       "  <tbody>\n",
       "    <tr>\n",
       "      <th>0</th>\n",
       "      <td>xho</td>\n",
       "      <td>umgaqo-siseko wenza amalungiselelo kumaziko ax...</td>\n",
       "    </tr>\n",
       "    <tr>\n",
       "      <th>1</th>\n",
       "      <td>xho</td>\n",
       "      <td>i-dha iya kuba nobulumko bokubeka umsebenzi na...</td>\n",
       "    </tr>\n",
       "    <tr>\n",
       "      <th>2</th>\n",
       "      <td>eng</td>\n",
       "      <td>the province of kwazulu-natal department of tr...</td>\n",
       "    </tr>\n",
       "    <tr>\n",
       "      <th>3</th>\n",
       "      <td>nso</td>\n",
       "      <td>o netefatša gore o ba file dilo ka moka tše le...</td>\n",
       "    </tr>\n",
       "    <tr>\n",
       "      <th>4</th>\n",
       "      <td>ven</td>\n",
       "      <td>khomishini ya ndinganyiso ya mbeu yo ewa maana...</td>\n",
       "    </tr>\n",
       "  </tbody>\n",
       "</table>\n",
       "</div>"
      ],
      "text/plain": [
       "  lang_id                                               text\n",
       "0     xho  umgaqo-siseko wenza amalungiselelo kumaziko ax...\n",
       "1     xho  i-dha iya kuba nobulumko bokubeka umsebenzi na...\n",
       "2     eng  the province of kwazulu-natal department of tr...\n",
       "3     nso  o netefatša gore o ba file dilo ka moka tše le...\n",
       "4     ven  khomishini ya ndinganyiso ya mbeu yo ewa maana..."
      ]
     },
     "execution_count": 4,
     "metadata": {},
     "output_type": "execute_result"
    }
   ],
   "source": [
    "train_df.head()"
   ]
  },
  {
   "cell_type": "code",
   "execution_count": 5,
   "id": "ac9dab13",
   "metadata": {},
   "outputs": [
    {
     "data": {
      "text/plain": [
       "(33000, 2)"
      ]
     },
     "execution_count": 5,
     "metadata": {},
     "output_type": "execute_result"
    }
   ],
   "source": [
    "train_df.shape"
   ]
  },
  {
   "cell_type": "code",
   "execution_count": 6,
   "id": "fb4a18c7",
   "metadata": {},
   "outputs": [
    {
     "name": "stdout",
     "output_type": "stream",
     "text": [
      " There are 33000 rows and 2 columns\n"
     ]
    }
   ],
   "source": [
    "print(f' There are {train_df.shape[0]} rows and {train_df.shape[1]} columns')"
   ]
  },
  {
   "cell_type": "code",
   "execution_count": 7,
   "id": "303619ef",
   "metadata": {},
   "outputs": [
    {
     "data": {
      "text/plain": [
       "lang_id    object\n",
       "text       object\n",
       "dtype: object"
      ]
     },
     "execution_count": 7,
     "metadata": {},
     "output_type": "execute_result"
    }
   ],
   "source": [
    "train_df.dtypes"
   ]
  },
  {
   "cell_type": "markdown",
   "id": "cde8d2ad",
   "metadata": {},
   "source": [
    "# *Observations*\n",
    "#### **The dataset has the following columns**:\n",
    "\n",
    "laung_id: Represents the different types of language identifiction abbreviations.\n",
    "\n",
    "text: Contains the text of the sentences associated with each language.\n",
    "\n",
    "#### **Data Types**\n",
    "\n",
    "The data columns have the following data types:\n",
    "laung_id : strings (str) message: text (str) \n",
    "\n",
    "#### **Dataset Size**\n",
    "\n",
    "The dataset consists of 33000 entries\n",
    "\n",
    "This dataset will be used for training and evaluating machine learning models to classify which language the text column is in. "
   ]
  },
  {
   "cell_type": "markdown",
   "id": "e7eb1b82",
   "metadata": {},
   "source": [
    "# **Observing the Target Variable**\n",
    "\n",
    "We will explore the following:\n",
    "<ul>\n",
    "  <li>Summary Statistics</li>\n",
    "  <li>Target Variable Distribution</li>\n",
    "</ul>"
   ]
  },
  {
   "cell_type": "code",
   "execution_count": 8,
   "id": "fd14325c",
   "metadata": {},
   "outputs": [
    {
     "data": {
      "text/plain": [
       "count                                                 33000\n",
       "unique                                                29948\n",
       "top       ngokwesekhtjheni yomthetho ophathelene nalokhu...\n",
       "freq                                                     17\n",
       "Name: text, dtype: object"
      ]
     },
     "execution_count": 8,
     "metadata": {},
     "output_type": "execute_result"
    }
   ],
   "source": [
    "#Explore summary Statistics\n",
    "train_df['text'].describe()"
   ]
  },
  {
   "cell_type": "code",
   "execution_count": null,
   "id": "1432b0f8",
   "metadata": {},
   "outputs": [],
   "source": []
  }
 ],
 "metadata": {
  "kernelspec": {
   "display_name": "Python 3 (ipykernel)",
   "language": "python",
   "name": "python3"
  },
  "language_info": {
   "codemirror_mode": {
    "name": "ipython",
    "version": 3
   },
   "file_extension": ".py",
   "mimetype": "text/x-python",
   "name": "python",
   "nbconvert_exporter": "python",
   "pygments_lexer": "ipython3",
   "version": "3.11.5"
  }
 },
 "nbformat": 4,
 "nbformat_minor": 5
}
